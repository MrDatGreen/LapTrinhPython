{
 "cells": [
  {
   "cell_type": "markdown",
   "id": "b22c3756",
   "metadata": {},
   "source": [
    "# Mã giả & Lưu đồ giải thuật\n"
   ]
  },
  {
   "cell_type": "markdown",
   "id": "0e05161a",
   "metadata": {},
   "source": [
    "### Bài tập\n",
    "\n",
    "<b>Đề bài</b>\n",
    "\n",
    "Nhập vào nhiệt độ C, chuyển sang độ F rồi in ra màn hình\n",
    "\n",
    "<b>Mã giả:</b>"
   ]
  },
  {
   "cell_type": "raw",
   "id": "4741e547",
   "metadata": {},
   "source": [
    "Nhập (nhiệt độ C)\n",
    "F= c*1.8+32\n",
    "In (F)"
   ]
  },
  {
   "cell_type": "markdown",
   "id": "89c7e7b0",
   "metadata": {},
   "source": [
    "<b>Lưu đồ giải thuật:</b>"
   ]
  },
  {
   "cell_type": "markdown",
   "id": "2eca90fd",
   "metadata": {},
   "source": []
  },
  {
   "cell_type": "markdown",
   "id": "909d160b",
   "metadata": {},
   "source": [
    "<b>Đề bài</b>\n",
    "\n",
    "Nhập vào lương tháng này, nếu lương tháng này nhiều hơn 2 triệu thì trừ đi 10% thuế, nếu không thì không trừ.\n",
    "\n",
    "Hãy tính và in ra lương thực nhận được\n",
    "\n",
    "<b>Mã giả:</b>\n"
   ]
  },
  {
   "cell_type": "raw",
   "id": "1c1e796d",
   "metadata": {},
   "source": []
  },
  {
   "cell_type": "markdown",
   "id": "ca74e75e",
   "metadata": {},
   "source": [
    "<b>Lưu đồ giải thuật:</b>"
   ]
  },
  {
   "attachments": {
    "image.png": {
     "image/png": "[encoded data removed]"
    }
   },
   "cell_type": "markdown",
   "id": "09ede106",
   "metadata": {},
   "source": [
    "![image.png](attachment:image.png)"
   ]
  },
  {
   "cell_type": "markdown",
   "id": "66635c1e",
   "metadata": {},
   "source": [
    "<b>Đề bài</b>\n",
    "\n",
    "Nhập vào lương thực nhận được tháng này, nếu lương ít hơn 10 triệu, đưa hết cho vợ, nếu lương nhiều hơn 10 triệu, vợ cho 10% lương\n",
    "\n",
    "Hãy tính và in ra màn hình phần lương mình được nhận\n",
    "\n",
    "<b>Mã giả:</b>"
   ]
  },
  {
   "cell_type": "raw",
   "id": "fbb7d30d",
   "metadata": {},
   "source": []
  },
  {
   "cell_type": "markdown",
   "id": "bdeb5caa",
   "metadata": {},
   "source": [
    "<b>Lưu đồ giải thuật:</b>"
   ]
  },
  {
   "cell_type": "markdown",
   "id": "47468334",
   "metadata": {},
   "source": []
  },
  {
   "cell_type": "markdown",
   "id": "dc302f16",
   "metadata": {},
   "source": [
    "<b>Đề bài</b>\n",
    "\n",
    "Nhập vào số điểm văn và điểm toán, tính và in ra điểm trung bình, nếu điểm trung bình lớn hơn 8 thì in ra dòng chữ Học sinh giỏi, ngược lại thì in ra dòng chữ Không phải học sinh giỏi\n",
    "\n",
    "<b>Mã giả:</b>"
   ]
  },
  {
   "cell_type": "raw",
   "id": "746404c0",
   "metadata": {},
   "source": []
  },
  {
   "cell_type": "markdown",
   "id": "47feb947",
   "metadata": {},
   "source": [
    "<b>Lưu đồ giải thuật:</b>"
   ]
  },
  {
   "cell_type": "markdown",
   "id": "3a3fa353",
   "metadata": {},
   "source": []
  },
  {
   "cell_type": "markdown",
   "id": "f54e51d6",
   "metadata": {},
   "source": [
    "<b>Đề bài</b>\n",
    "\n",
    "Nhập vào một số, kiểm tra xem số đó có chia hết cho 5 hay không\n",
    "\n",
    "<b>Mã giả:</b>"
   ]
  },
  {
   "cell_type": "raw",
   "id": "af34c6d1",
   "metadata": {},
   "source": []
  },
  {
   "cell_type": "markdown",
   "id": "03043cde",
   "metadata": {},
   "source": [
    "<b>Lưu đồ giải thuật:</b>"
   ]
  },
  {
   "cell_type": "markdown",
   "id": "63996250",
   "metadata": {},
   "source": []
  },
  {
   "cell_type": "markdown",
   "id": "085b68e5",
   "metadata": {},
   "source": [
    "<b>Đề bài</b>\n",
    "\n",
    "Nhập vào điểm số, nếu điểm số lớn hơn hoặc bằng 8, in ra dòng chữ Học sinh giỏi, nếu điểm số bé hơn 8 và lớn hơn hoặc bằng 6, in ra dòng chữ chữ học sinh Khá, ngược lại in ra dòng chữ Học sinh trung bình\n",
    "\n",
    "<b>Mã giả:</b>"
   ]
  },
  {
   "cell_type": "raw",
   "id": "b62df4f3",
   "metadata": {},
   "source": []
  },
  {
   "cell_type": "markdown",
   "id": "98cc51d3",
   "metadata": {},
   "source": [
    "<b>Lưu đồ giải thuật:</b>"
   ]
  },
  {
   "cell_type": "markdown",
   "id": "2717c8d8",
   "metadata": {},
   "source": []
  },
  {
   "cell_type": "markdown",
   "id": "7e09c702",
   "metadata": {},
   "source": [
    "<b>Đề bài</b>\n",
    "\n",
    "Nhập vào một số, kiểm tra tính chẳn lẻ và số đó có lớn hơn 10 hay không. (in ra 4 trường hợp: chẳn lớn hơn 10, lẻ lớn hơn 10, chẳn bé hơn hoặc bằng 10, lẻ bé hơn 10)\n",
    "\n",
    "<b>Mã giả:</b>"
   ]
  },
  {
   "cell_type": "raw",
   "id": "58ddb425",
   "metadata": {},
   "source": []
  },
  {
   "cell_type": "markdown",
   "id": "559fb20e",
   "metadata": {},
   "source": [
    "<b>Lưu đồ giải thuật:</b>"
   ]
  },
  {
   "cell_type": "markdown",
   "id": "8381a441",
   "metadata": {},
   "source": []
  }
 ],
 "metadata": {
  "kernelspec": {
   "display_name": "Python 3 (ipykernel)",
   "language": "python",
   "name": "python3"
  },
  "language_info": {
   "codemirror_mode": {
    "name": "ipython",
    "version": 3
   },
   "file_extension": ".py",
   "mimetype": "text/x-python",
   "name": "python",
   "nbconvert_exporter": "python",
   "pygments_lexer": "ipython3",
   "version": "3.10.1"
  }
 },
 "nbformat": 4,
 "nbformat_minor": 5
}
